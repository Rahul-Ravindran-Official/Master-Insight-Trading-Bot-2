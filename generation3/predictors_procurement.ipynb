{
 "cells": [
  {
   "cell_type": "markdown",
   "metadata": {},
   "source": [
    "# Dataset Procurement\n",
    "\n",
    "1. Input : Symbol\n",
    "2. Output : [symbol]_input_signals.csv"
   ]
  },
  {
   "cell_type": "markdown",
   "metadata": {},
   "source": [
    "## Imports"
   ]
  },
  {
   "cell_type": "code",
   "execution_count": 1,
   "metadata": {
    "pycharm": {
     "name": "#%%\n"
    }
   },
   "outputs": [],
   "source": [
    "import yfinance as yf\n",
    "import datetime as dt\n",
    "from typing import List\n",
    "import talib\n",
    "from talib import abstract\n",
    "import pandas as pd\n",
    "import numpy as np"
   ]
  },
  {
   "cell_type": "markdown",
   "metadata": {},
   "source": [
    "## Parameters"
   ]
  },
  {
   "cell_type": "code",
   "execution_count": 2,
   "metadata": {
    "pycharm": {
     "name": "#%%\n"
    }
   },
   "outputs": [],
   "source": [
    "tickers = [\"NZDUSD=X\", \"AUDUSD=X\"]\n",
    "interval = '1d'\n",
    "start_date = dt.date(2006, 5, 20)\n",
    "end_date = dt.date(2020, 12, 15)\n",
    "include_indicators = True"
   ]
  },
  {
   "cell_type": "markdown",
   "metadata": {},
   "source": [
    "## Utility Code"
   ]
  },
  {
   "cell_type": "code",
   "execution_count": 3,
   "metadata": {},
   "outputs": [],
   "source": [
    "def all_technical_indicator_inputs(ohlc_data):\n",
    "\n",
    "    inputs = {\n",
    "        'open': ohlc_data['Open'],\n",
    "        'high': ohlc_data['High'],\n",
    "        'low': ohlc_data['Low'],\n",
    "        'close': ohlc_data['Adj Close'],\n",
    "        'volume': ohlc_data['Volume']\n",
    "    }\n",
    "\n",
    "    # Price Data\n",
    "    def day_diff(diff_days: int):\n",
    "        n_day_diff = ohlc_data[\"Adj Close\"][diff_days:].to_numpy() - ohlc_data[\"Adj Close\"][:-diff_days].to_numpy()\n",
    "        n_day_diff = np.insert(n_day_diff, 0, [np.nan]*diff_days, axis=0)\n",
    "        return n_day_diff\n",
    "\n",
    "    for i in range(5):\n",
    "        k = i+1\n",
    "        ohlc_data[\"diff-day-\" + str(k)] = day_diff(k)\n",
    "\n",
    "    # Simple Indicators\n",
    "    ohlc_data[\"EMA-3\"] = ohlc_data[\"Adj Close\"] - talib.EMA(ohlc_data[\"Adj Close\"], 3)\n",
    "    ohlc_data[\"EMA-7\"] = ohlc_data[\"Adj Close\"] - talib.EMA(ohlc_data[\"Adj Close\"], 7)\n",
    "    ohlc_data[\"EMA-21\"] = ohlc_data[\"Adj Close\"] - talib.EMA(ohlc_data[\"Adj Close\"], 21)\n",
    "    ohlc_data[\"EMA-50\"] = ohlc_data[\"Adj Close\"] - talib.EMA(ohlc_data[\"Adj Close\"], 50)\n",
    "    ohlc_data[\"RSI\"] = talib.RSI(ohlc_data[\"Adj Close\"], 14)/100\n",
    "    ohlc_data[\"MACD\"] = talib.MACD(ohlc_data[\"Adj Close\"], 12, 26, 9)[2]\n",
    "    ohlc_data[\"ADX\"] = talib.ADX(ohlc_data[\"High\"], ohlc_data[\"Low\"], ohlc_data[\"Close\"])/100\n",
    "    ohlc_data[\"STD\"] = talib.STDDEV(ohlc_data[\"Adj Close\"])\n",
    "\n",
    "    # Complex Indicators\n",
    "    def get_useful_bbands():\n",
    "        bb = talib.BBANDS(ohlc_data[\"Adj Close\"])\n",
    "        bb_width = bb[0] - bb[2]\n",
    "        bb_buy = ohlc_data[\"Adj Close\"] - bb[0]\n",
    "        bb_sell = bb[2] - ohlc_data[\"Adj Close\"]\n",
    "        return bb_width, bb_buy, bb_sell\n",
    "\n",
    "    ohlc_data[\"bb_width\"], ohlc_data[\"bb_buy\"], ohlc_data[\"bb_sell\"] = get_useful_bbands()\n",
    "\n",
    "    return ohlc_data"
   ]
  },
  {
   "cell_type": "code",
   "execution_count": 4,
   "metadata": {
    "pycharm": {
     "is_executing": true
    }
   },
   "outputs": [],
   "source": [
    "def obtain_ohlc_data(\n",
    "        tickers: List[str]=tickers,\n",
    "        start: dt.datetime=start_date,\n",
    "        end: dt.datetime=end_date,\n",
    "        include_all_indicators=include_indicators,\n",
    "        interval: str=interval\n",
    ") -> List:\n",
    "\n",
    "    ticker_data = []\n",
    "\n",
    "    for e in tickers:\n",
    "\n",
    "        data = yf.download(\n",
    "            interval=interval,\n",
    "            tickers=e,\n",
    "            start=start,\n",
    "            end=end\n",
    "        )\n",
    "\n",
    "        if include_all_indicators:\n",
    "            data = all_technical_indicator_inputs(data)\n",
    "\n",
    "        ticker_data.append(data)\n",
    "    return ticker_data"
   ]
  },
  {
   "cell_type": "markdown",
   "metadata": {},
   "source": [
    "## Main Logic"
   ]
  },
  {
   "cell_type": "code",
   "execution_count": 5,
   "metadata": {
    "pycharm": {
     "is_executing": true
    },
    "scrolled": false
   },
   "outputs": [
    {
     "name": "stdout",
     "output_type": "stream",
     "text": [
      "[*********************100%***********************]  1 of 1 completed\n",
      "[*********************100%***********************]  1 of 1 completed\n"
     ]
    }
   ],
   "source": [
    "tick_data = obtain_ohlc_data()"
   ]
  },
  {
   "cell_type": "code",
   "execution_count": 6,
   "metadata": {
    "pycharm": {
     "is_executing": true
    },
    "scrolled": true
   },
   "outputs": [
    {
     "data": {
      "text/plain": [
       "[                Open      High       Low     Close  Adj Close  Volume  \\\n",
       " Date                                                                    \n",
       " 2006-05-19  0.621736  0.624103  0.615915  0.621891   0.621891       0   \n",
       " 2006-05-22  0.620386  0.623791  0.614817  0.623014   0.623014       0   \n",
       " 2006-05-23  0.622898  0.630795  0.620809  0.624103   0.624103       0   \n",
       " 2006-05-24  0.624493  0.636294  0.623286  0.635405   0.635405       0   \n",
       " 2006-05-25  0.635809  0.641643  0.633513  0.640902   0.640902       0   \n",
       " ...              ...       ...       ...       ...        ...     ...   \n",
       " 2020-12-08  0.704002  0.705430  0.702500  0.704052   0.704052       0   \n",
       " 2020-12-09  0.704072  0.709512  0.703700  0.704072   0.704072       0   \n",
       " 2020-12-10  0.701740  0.708421  0.701538  0.701641   0.701641       0   \n",
       " 2020-12-11  0.709280  0.711101  0.707559  0.709401   0.709401       0   \n",
       " 2020-12-14  0.709900  0.712078  0.707769  0.709849   0.709849       0   \n",
       " \n",
       "             diff-day-1  diff-day-2  diff-day-3  diff-day-4  ...     EMA-7  \\\n",
       " Date                                                        ...             \n",
       " 2006-05-19         NaN         NaN         NaN         NaN  ...       NaN   \n",
       " 2006-05-22    0.001124         NaN         NaN         NaN  ...       NaN   \n",
       " 2006-05-23    0.001089    0.002212         NaN         NaN  ...       NaN   \n",
       " 2006-05-24    0.011302    0.012391    0.013514         NaN  ...       NaN   \n",
       " 2006-05-25    0.005498    0.016800    0.017888    0.019012  ...       NaN   \n",
       " ...                ...         ...         ...         ...  ...       ...   \n",
       " 2020-12-08   -0.000088   -0.003287   -0.003098   -0.002947  ...  0.000200   \n",
       " 2020-12-09    0.000020   -0.000068   -0.003267   -0.003078  ...  0.000165   \n",
       " 2020-12-10   -0.002430   -0.002411   -0.002499   -0.005697  ... -0.001699   \n",
       " 2020-12-11    0.007760    0.005329    0.005349    0.005261  ...  0.004545   \n",
       " 2020-12-14    0.000448    0.008208    0.005777    0.005797  ...  0.003745   \n",
       " \n",
       "               EMA-21    EMA-50       RSI      MACD       ADX       STD  \\\n",
       " Date                                                                     \n",
       " 2006-05-19       NaN       NaN       NaN       NaN       NaN       NaN   \n",
       " 2006-05-22       NaN       NaN       NaN       NaN       NaN       NaN   \n",
       " 2006-05-23       NaN       NaN       NaN       NaN       NaN       NaN   \n",
       " 2006-05-24       NaN       NaN       NaN       NaN       NaN       NaN   \n",
       " 2006-05-25       NaN       NaN       NaN       NaN       NaN  0.007655   \n",
       " ...              ...       ...       ...       ...       ...       ...   \n",
       " 2020-12-08  0.008570  0.020727  0.676821 -0.000012  0.443293  0.001506   \n",
       " 2020-12-09  0.007809  0.019934  0.677012 -0.000312  0.448389  0.001548   \n",
       " 2020-12-10  0.004889  0.016817  0.627907 -0.000714  0.445866  0.001813   \n",
       " 2020-12-11  0.011499  0.023613  0.702180 -0.000507  0.446968  0.002553   \n",
       " 2020-12-14  0.010861  0.023117  0.705831 -0.000394  0.449194  0.003247   \n",
       " \n",
       "             bb_width    bb_buy   bb_sell  \n",
       " Date                                      \n",
       " 2006-05-19       NaN       NaN       NaN  \n",
       " 2006-05-22       NaN       NaN       NaN  \n",
       " 2006-05-23       NaN       NaN       NaN  \n",
       " 2006-05-24       NaN       NaN       NaN  \n",
       " 2006-05-25  0.030622 -0.003471 -0.027150  \n",
       " ...              ...       ...       ...  \n",
       " 2020-12-08  0.006025 -0.004897 -0.001129  \n",
       " 2020-12-09  0.006191 -0.004374 -0.001817  \n",
       " 2020-12-10  0.007251 -0.006233 -0.001018  \n",
       " 2020-12-11  0.010210 -0.000365 -0.009845  \n",
       " 2020-12-14  0.012986 -0.002447 -0.010539  \n",
       " \n",
       " [3771 rows x 22 columns],\n",
       "                 Open      High       Low     Close  Adj Close  Volume  \\\n",
       " Date                                                                    \n",
       " 2006-05-19  0.763884  0.764818  0.753012  0.757174   0.757174       0   \n",
       " 2006-05-22  0.756888  0.756888  0.747105  0.753409   0.753409       0   \n",
       " 2006-05-23  0.752672  0.759474  0.749513  0.750976   0.750976       0   \n",
       " 2006-05-24  0.751315  0.755915  0.749906  0.753125   0.753125       0   \n",
       " 2006-05-25  0.753182  0.762079  0.751484  0.760919   0.760919       0   \n",
       " ...              ...       ...       ...       ...        ...     ...   \n",
       " 2020-12-08  0.741785  0.743700  0.740070  0.741760   0.741760       0   \n",
       " 2020-12-09  0.741200  0.748727  0.740920  0.741100   0.741100       0   \n",
       " 2020-12-10  0.743410  0.752700  0.743410  0.743500   0.743500       0   \n",
       " 2020-12-11  0.752502  0.757002  0.752070  0.752440   0.752440       0   \n",
       " 2020-12-14  0.755030  0.757830  0.752900  0.755110   0.755110       0   \n",
       " \n",
       "             diff-day-1  diff-day-2  diff-day-3  diff-day-4  ...     EMA-7  \\\n",
       " Date                                                        ...             \n",
       " 2006-05-19         NaN         NaN         NaN         NaN  ...       NaN   \n",
       " 2006-05-22   -0.003765         NaN         NaN         NaN  ...       NaN   \n",
       " 2006-05-23   -0.002433   -0.006198         NaN         NaN  ...       NaN   \n",
       " 2006-05-24    0.002149   -0.000284   -0.004049         NaN  ...       NaN   \n",
       " 2006-05-25    0.007794    0.009943    0.007510    0.003745  ...       NaN   \n",
       " ...                ...         ...         ...         ...  ...       ...   \n",
       " 2020-12-08   -0.001397   -0.002140   -0.000040    0.003671  ...  0.001298   \n",
       " 2020-12-09   -0.000660   -0.002058   -0.002800   -0.000700  ...  0.000479   \n",
       " 2020-12-10    0.002400    0.001740    0.000343   -0.000400  ...  0.002159   \n",
       " 2020-12-11    0.008940    0.011340    0.010680    0.009282  ...  0.008324   \n",
       " 2020-12-14    0.002670    0.011610    0.014011    0.013350  ...  0.008246   \n",
       " \n",
       "               EMA-21    EMA-50       RSI      MACD       ADX       STD  \\\n",
       " Date                                                                     \n",
       " 2006-05-19       NaN       NaN       NaN       NaN       NaN       NaN   \n",
       " 2006-05-22       NaN       NaN       NaN       NaN       NaN       NaN   \n",
       " 2006-05-23       NaN       NaN       NaN       NaN       NaN       NaN   \n",
       " 2006-05-24       NaN       NaN       NaN       NaN       NaN       NaN   \n",
       " 2006-05-25       NaN       NaN       NaN       NaN       NaN  0.003519   \n",
       " ...              ...       ...       ...       ...       ...       ...   \n",
       " 2020-12-08  0.007892  0.015507  0.637197  0.000493  0.312023  0.002000   \n",
       " 2020-12-09  0.006574  0.014264  0.625922  0.000241  0.320325  0.001026   \n",
       " 2020-12-10  0.008159  0.016011  0.650158  0.000174  0.332480  0.001071   \n",
       " 2020-12-11  0.015544  0.023973  0.722321  0.000642  0.347869  0.004120   \n",
       " 2020-12-14  0.016559  0.025598  0.739600  0.001021  0.362896  0.005825   \n",
       " \n",
       "             bb_width    bb_buy   bb_sell  \n",
       " Date                                      \n",
       " 2006-05-19       NaN       NaN       NaN  \n",
       " 2006-05-22       NaN       NaN       NaN  \n",
       " 2006-05-23       NaN       NaN       NaN  \n",
       " 2006-05-24       NaN       NaN       NaN  \n",
       " 2006-05-25  0.014077 -0.001240 -0.012837  \n",
       " ...              ...       ...       ...  \n",
       " 2020-12-08  0.008001 -0.003982 -0.004019  \n",
       " 2020-12-09  0.004106 -0.003296 -0.000809  \n",
       " 2020-12-10  0.004283 -0.001325 -0.002958  \n",
       " 2020-12-11  0.016478 -0.000191 -0.016288  \n",
       " 2020-12-14  0.023300 -0.003322 -0.019978  \n",
       " \n",
       " [3770 rows x 22 columns]]"
      ]
     },
     "execution_count": 6,
     "metadata": {},
     "output_type": "execute_result"
    }
   ],
   "source": [
    "tick_data"
   ]
  },
  {
   "cell_type": "markdown",
   "metadata": {
    "scrolled": true
   },
   "source": [
    "## Preprocessing"
   ]
  },
  {
   "cell_type": "markdown",
   "metadata": {},
   "source": [
    "### Dropping NA"
   ]
  },
  {
   "cell_type": "code",
   "execution_count": 7,
   "metadata": {},
   "outputs": [],
   "source": [
    "for i in range(len(tick_data)):\n",
    "    tick_data[i] = tick_data[i].dropna()"
   ]
  },
  {
   "cell_type": "markdown",
   "metadata": {},
   "source": [
    "### Exporting"
   ]
  },
  {
   "cell_type": "code",
   "execution_count": 8,
   "metadata": {},
   "outputs": [],
   "source": [
    "for idx, ticker in enumerate(tickers):\n",
    "    pd.DataFrame(tick_data[idx]).to_csv(\n",
    "        r'./' + ticker + '_input_signals.csv',\n",
    "        index=False,\n",
    "        header=True\n",
    "    )"
   ]
  }
 ],
 "metadata": {
  "kernelspec": {
   "display_name": "Python 3",
   "language": "python",
   "name": "python3"
  },
  "language_info": {
   "codemirror_mode": {
    "name": "ipython",
    "version": 3
   },
   "file_extension": ".py",
   "mimetype": "text/x-python",
   "name": "python",
   "nbconvert_exporter": "python",
   "pygments_lexer": "ipython3",
   "version": "3.7.4"
  }
 },
 "nbformat": 4,
 "nbformat_minor": 1
}